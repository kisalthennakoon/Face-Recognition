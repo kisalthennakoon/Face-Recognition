{
 "cells": [
  {
   "cell_type": "markdown",
   "metadata": {},
   "source": [
    "Importing Files"
   ]
  },
  {
   "cell_type": "code",
   "execution_count": 18,
   "metadata": {},
   "outputs": [],
   "source": [
    "import cv2\n",
    "import os\n",
    "import numpy"
   ]
  },
  {
   "cell_type": "markdown",
   "metadata": {},
   "source": [
    "Run following block to input user faces to system.\n",
    "(give folder path as data/at and create a user name folder (ex: kisal) for each user)"
   ]
  },
  {
   "cell_type": "code",
   "execution_count": 19,
   "metadata": {},
   "outputs": [],
   "source": [
    "import cv2\n",
    "import os\n",
    "\n",
    "output_folder = \"data/at/kisal\"\n",
    "if not os.path.exists(output_folder):\n",
    "    os.makedirs(output_folder)\n",
    "\n",
    "face_cascade = cv2.CascadeClassifier('haarcascade_frontalface_default.xml')\n",
    "\n",
    "\n",
    "camera = cv2.VideoCapture(0)\n",
    "count = 0\n",
    "while cv2.waitKey(1) == -1 :\n",
    "    success, frame = camera.read()\n",
    "    gray = cv2.cvtColor(frame, cv2.COLOR_BGR2GRAY)\n",
    "    faces = face_cascade.detectMultiScale(gray, 1.3, 5, minSize = (120,120))\n",
    "    for (x,y,w,h) in faces:\n",
    "        cv2.rectangle(frame, (x,y), (x+w, y+h), (255,0,0), 2 )\n",
    "        face_im = cv2.resize(gray[y:y+h, x:x+w], (200,200) )\n",
    "        face_filename = '%s/%d.pgm' % (output_folder, count)\n",
    "        cv2.imwrite(face_filename, face_im)\n",
    "        count +=1\n",
    "    cv2.imshow('CapturingFaces',frame)\n",
    "camera.release()\n",
    "cv2.destroyWindow('CapturingFaces')"
   ]
  },
  {
   "cell_type": "markdown",
   "metadata": {},
   "source": [
    "Run following cell"
   ]
  },
  {
   "cell_type": "code",
   "execution_count": 20,
   "metadata": {},
   "outputs": [],
   "source": [
    "def read_images(path, image_size):\n",
    "    names = []\n",
    "    training_images, training_labels = [], []\n",
    "    label = 0\n",
    "    for dirname, subdirnames, filenames in os.walk(path):\n",
    "        for subdirname in subdirnames:\n",
    "            names.append(subdirname)\n",
    "            subject_path = os.path.join(dirname, subdirname)\n",
    "            for filename in os.listdir(subject_path):\n",
    "                img = cv2.imread(os.path.join(subject_path, filename),  cv2.IMREAD_GRAYSCALE)\n",
    "                if img is None:\n",
    "                    # The file cannot be loaded as an image.\n",
    "                    # Skip it.\n",
    "                    continue\n",
    "                img = cv2.resize(img, image_size)\n",
    "                training_images.append(img)\n",
    "                training_labels.append(label)\n",
    "            label += 1\n",
    "    training_images = numpy.asarray(training_images, numpy.uint8)\n",
    "    training_labels = numpy.asarray(training_labels, numpy.int32)\n",
    "    return names, training_images, training_labels"
   ]
  },
  {
   "cell_type": "markdown",
   "metadata": {},
   "source": [
    "Train the model running following block"
   ]
  },
  {
   "cell_type": "code",
   "execution_count": 21,
   "metadata": {},
   "outputs": [],
   "source": [
    "path_to_training_images = 'data/at'\n",
    "training_image_size = (200, 200)\n",
    "names, training_images, training_labels = read_images( path_to_training_images, training_image_size)\n",
    "\n",
    "model = cv2.face.EigenFaceRecognizer_create()\n",
    "model.train(training_images, training_labels)"
   ]
  },
  {
   "cell_type": "markdown",
   "metadata": {},
   "source": [
    "Run following block to recognize faces"
   ]
  },
  {
   "cell_type": "code",
   "execution_count": 22,
   "metadata": {},
   "outputs": [],
   "source": [
    "face_cascade = cv2.CascadeClassifier('haarcascade_frontalface_default.xml')\n",
    "camera = cv2.VideoCapture(0)\n",
    "while cv2.waitKey(1) == -1 :\n",
    "    success, frame = camera.read()\n",
    "    if success:\n",
    "        gray = cv2.cvtColor(frame, cv2.COLOR_BGR2GRAY)\n",
    "        faces = face_cascade.detectMultiScale(gray, 1.3, 5)\n",
    "        for (x,y,w,h) in faces:\n",
    "            cv2.rectangle(frame, (x,y), (x+w, y+h), (255,0,0), 2 )\n",
    "            face_im = cv2.resize(gray[y:y+h, x:x+w], training_image_size )\n",
    "            if face_im.size == 0:\n",
    "                # The ROI is empty. Maybe the face is at the image edge.\n",
    "                # Skip it.\n",
    "                continue\n",
    "            label, confidence = model.predict(face_im)\n",
    "\n",
    "            text = '%s, confidence=%.2f' % (names[label], confidence)\n",
    "            cv2.putText(frame, text, (x, y - 20), cv2.FONT_HERSHEY_SIMPLEX, 1, (255, 0, 0), 2)\n",
    "\n",
    "        cv2.imshow('CapturingFaces',frame)\n",
    "camera.release()\n",
    "cv2.destroyWindow('CapturingFaces')"
   ]
  },
  {
   "cell_type": "code",
   "execution_count": null,
   "metadata": {},
   "outputs": [],
   "source": []
  }
 ],
 "metadata": {
  "kernelspec": {
   "display_name": "base",
   "language": "python",
   "name": "python3"
  },
  "language_info": {
   "codemirror_mode": {
    "name": "ipython",
    "version": 3
   },
   "file_extension": ".py",
   "mimetype": "text/x-python",
   "name": "python",
   "nbconvert_exporter": "python",
   "pygments_lexer": "ipython3",
   "version": "3.11.7"
  }
 },
 "nbformat": 4,
 "nbformat_minor": 2
}
